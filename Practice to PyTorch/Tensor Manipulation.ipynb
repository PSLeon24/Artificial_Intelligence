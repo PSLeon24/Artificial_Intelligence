{
 "cells": [
  {
   "cell_type": "markdown",
   "id": "aa666237",
   "metadata": {},
   "source": [
    "# Tensor Manipulation"
   ]
  },
  {
   "cell_type": "markdown",
   "id": "d8708382",
   "metadata": {},
   "source": [
    "- Scalar: 우리가 흔히 알고 있는 상수, 하나의 값을 표현. Rank = 0\n",
    "- Vector: 여러 개의 값을 가진 1차원 데이터. Rank = 1\n",
    "- Matrix: 행렬, 행과 열로 이루어진 2차원 데이터. Rank = 2\n",
    "- Tensor: n 차원의 행렬 형태로 표현. scalar는 0차원, vector는 1차원, matrix는 2차원 텐서라고 할 수 있음. Rank = n\n",
    "- e.g.: 가로, 세로 사이즈가 100인 컬러 이미지(RGB) 1장은 [3, 100, 100]의 3-d tensor로 저장.\n",
    "    - 만약 위 사진과 같은 사이즈의 이미지가 5장이 있다면, [5, 3, 100, 100]의 4-d tensor로 저장."
   ]
  },
  {
   "cell_type": "code",
   "execution_count": 1,
   "id": "9d161e56",
   "metadata": {},
   "outputs": [],
   "source": [
    "import numpy as np\n",
    "import torch"
   ]
  },
  {
   "cell_type": "markdown",
   "id": "8e4f4394",
   "metadata": {},
   "source": [
    "# 1. Create a Tensor"
   ]
  },
  {
   "cell_type": "markdown",
   "id": "eb8d7418",
   "metadata": {},
   "source": [
    "## 1.1. torch.tensor()"
   ]
  },
  {
   "cell_type": "code",
   "execution_count": 2,
   "id": "9618301b",
   "metadata": {},
   "outputs": [
    {
     "data": {
      "text/plain": [
       "tensor(5)"
      ]
     },
     "execution_count": 2,
     "metadata": {},
     "output_type": "execute_result"
    }
   ],
   "source": [
    "torch.tensor(5) # 0-d tensor = scalar"
   ]
  },
  {
   "cell_type": "code",
   "execution_count": 3,
   "id": "92bfafdd",
   "metadata": {},
   "outputs": [
    {
     "data": {
      "text/plain": [
       "tensor([1, 2, 3, 4, 5])"
      ]
     },
     "execution_count": 3,
     "metadata": {},
     "output_type": "execute_result"
    }
   ],
   "source": [
    "torch.tensor([1, 2, 3, 4, 5]) # 1-d tensor = vector"
   ]
  },
  {
   "cell_type": "code",
   "execution_count": 8,
   "id": "1092ec8d",
   "metadata": {},
   "outputs": [
    {
     "data": {
      "text/plain": [
       "tensor([[1, 2, 3],\n",
       "        [4, 5, 6]])"
      ]
     },
     "execution_count": 8,
     "metadata": {},
     "output_type": "execute_result"
    }
   ],
   "source": [
    "torch.tensor([[1, 2, 3], [4, 5, 6]]) # 2-d tensor = matrix"
   ]
  },
  {
   "cell_type": "code",
   "execution_count": 5,
   "id": "d8275fce",
   "metadata": {
    "scrolled": true
   },
   "outputs": [
    {
     "data": {
      "text/plain": [
       "tensor([[1],\n",
       "        [2],\n",
       "        [3],\n",
       "        [4],\n",
       "        [5]])"
      ]
     },
     "execution_count": 5,
     "metadata": {},
     "output_type": "execute_result"
    }
   ],
   "source": [
    "torch.tensor([[1], [2], [3], [4], [5]]) # 5-d tensor"
   ]
  },
  {
   "cell_type": "code",
   "execution_count": 6,
   "id": "0fb61733",
   "metadata": {},
   "outputs": [
    {
     "data": {
      "text/plain": [
       "tensor([1, 2, 3, 4, 5])"
      ]
     },
     "execution_count": 6,
     "metadata": {},
     "output_type": "execute_result"
    }
   ],
   "source": [
    "temp_list = [1, 2, 3, 4, 5]\n",
    "torch.tensor(temp_list) # 1-d tensor = vector"
   ]
  },
  {
   "cell_type": "code",
   "execution_count": 7,
   "id": "38ea807f",
   "metadata": {},
   "outputs": [
    {
     "data": {
      "text/plain": [
       "tensor([1, 2, 3, 4, 5])"
      ]
     },
     "execution_count": 7,
     "metadata": {},
     "output_type": "execute_result"
    }
   ],
   "source": [
    "temp_set = {1, 2, 3, 4, 5}\n",
    "torch.tensor(temp_list) # 5-d tensor"
   ]
  },
  {
   "cell_type": "code",
   "execution_count": 9,
   "id": "7c1e4ee7",
   "metadata": {},
   "outputs": [
    {
     "data": {
      "text/plain": [
       "tensor([1, 2, 3, 4, 5])"
      ]
     },
     "execution_count": 9,
     "metadata": {},
     "output_type": "execute_result"
    }
   ],
   "source": [
    "temp_tuple = (1, 2, 3, 4, 5)\n",
    "torch.tensor(temp_tuple) # 5-d tensor"
   ]
  },
  {
   "cell_type": "code",
   "execution_count": 11,
   "id": "a4736fa2",
   "metadata": {},
   "outputs": [
    {
     "data": {
      "text/plain": [
       "tensor([1, 2, 3, 4, 5])"
      ]
     },
     "execution_count": 11,
     "metadata": {},
     "output_type": "execute_result"
    }
   ],
   "source": [
    "temp_np_array = np.array(temp_list)\n",
    "torch.tensor(temp_np_array)"
   ]
  },
  {
   "cell_type": "code",
   "execution_count": 12,
   "id": "4e709914",
   "metadata": {},
   "outputs": [
    {
     "data": {
      "text/plain": [
       "tensor([1, 2, 3, 4, 5])"
      ]
     },
     "execution_count": 12,
     "metadata": {},
     "output_type": "execute_result"
    }
   ],
   "source": [
    "torch.from_numpy(temp_np_array)"
   ]
  },
  {
   "cell_type": "markdown",
   "id": "e01f6080",
   "metadata": {},
   "source": [
    "## 1.2. torch.ones()"
   ]
  },
  {
   "cell_type": "code",
   "execution_count": 13,
   "id": "46fe1ec9",
   "metadata": {},
   "outputs": [
    {
     "data": {
      "text/plain": [
       "tensor([1., 1., 1.])"
      ]
     },
     "execution_count": 13,
     "metadata": {},
     "output_type": "execute_result"
    }
   ],
   "source": [
    "torch.ones(3)"
   ]
  },
  {
   "cell_type": "code",
   "execution_count": 24,
   "id": "ed8b7ab8",
   "metadata": {},
   "outputs": [
    {
     "data": {
      "text/plain": [
       "tensor([[1., 1., 1.],\n",
       "        [1., 1., 1.],\n",
       "        [1., 1., 1.],\n",
       "        [1., 1., 1.]])"
      ]
     },
     "execution_count": 24,
     "metadata": {},
     "output_type": "execute_result"
    }
   ],
   "source": [
    "torch.ones([4, 3])"
   ]
  },
  {
   "cell_type": "code",
   "execution_count": 23,
   "id": "9463b966",
   "metadata": {},
   "outputs": [
    {
     "data": {
      "text/plain": [
       "tensor([[[1., 1., 1.],\n",
       "         [1., 1., 1.],\n",
       "         [1., 1., 1.],\n",
       "         [1., 1., 1.]],\n",
       "\n",
       "        [[1., 1., 1.],\n",
       "         [1., 1., 1.],\n",
       "         [1., 1., 1.],\n",
       "         [1., 1., 1.]]])"
      ]
     },
     "execution_count": 23,
     "metadata": {},
     "output_type": "execute_result"
    }
   ],
   "source": [
    "torch.ones([2, 4, 3])"
   ]
  },
  {
   "cell_type": "markdown",
   "id": "8fa86d83",
   "metadata": {},
   "source": [
    "## 1.3. torch.zeros()"
   ]
  },
  {
   "cell_type": "code",
   "execution_count": 16,
   "id": "8d02fd5b",
   "metadata": {},
   "outputs": [
    {
     "data": {
      "text/plain": [
       "tensor([0., 0., 0.])"
      ]
     },
     "execution_count": 16,
     "metadata": {},
     "output_type": "execute_result"
    }
   ],
   "source": [
    "torch.zeros(3)"
   ]
  },
  {
   "cell_type": "code",
   "execution_count": 17,
   "id": "dcfd613d",
   "metadata": {},
   "outputs": [
    {
     "data": {
      "text/plain": [
       "tensor([[0., 0., 0.],\n",
       "        [0., 0., 0.],\n",
       "        [0., 0., 0.]])"
      ]
     },
     "execution_count": 17,
     "metadata": {},
     "output_type": "execute_result"
    }
   ],
   "source": [
    "torch.zeros([3, 3])"
   ]
  },
  {
   "cell_type": "code",
   "execution_count": 21,
   "id": "df9d2526",
   "metadata": {},
   "outputs": [
    {
     "data": {
      "text/plain": [
       "tensor([[[0., 0., 0., 0., 0.],\n",
       "         [0., 0., 0., 0., 0.],\n",
       "         [0., 0., 0., 0., 0.],\n",
       "         [0., 0., 0., 0., 0.]],\n",
       "\n",
       "        [[0., 0., 0., 0., 0.],\n",
       "         [0., 0., 0., 0., 0.],\n",
       "         [0., 0., 0., 0., 0.],\n",
       "         [0., 0., 0., 0., 0.]],\n",
       "\n",
       "        [[0., 0., 0., 0., 0.],\n",
       "         [0., 0., 0., 0., 0.],\n",
       "         [0., 0., 0., 0., 0.],\n",
       "         [0., 0., 0., 0., 0.]]])"
      ]
     },
     "execution_count": 21,
     "metadata": {},
     "output_type": "execute_result"
    }
   ],
   "source": [
    "torch.zeros([3, 4, 5])"
   ]
  },
  {
   "cell_type": "code",
   "execution_count": 28,
   "id": "7c4397ac",
   "metadata": {},
   "outputs": [
    {
     "data": {
      "text/plain": [
       "tensor([[[[0., 0., 0., 0.]],\n",
       "\n",
       "         [[0., 0., 0., 0.]],\n",
       "\n",
       "         [[0., 0., 0., 0.]]],\n",
       "\n",
       "\n",
       "        [[[0., 0., 0., 0.]],\n",
       "\n",
       "         [[0., 0., 0., 0.]],\n",
       "\n",
       "         [[0., 0., 0., 0.]]],\n",
       "\n",
       "\n",
       "        [[[0., 0., 0., 0.]],\n",
       "\n",
       "         [[0., 0., 0., 0.]],\n",
       "\n",
       "         [[0., 0., 0., 0.]]],\n",
       "\n",
       "\n",
       "        [[[0., 0., 0., 0.]],\n",
       "\n",
       "         [[0., 0., 0., 0.]],\n",
       "\n",
       "         [[0., 0., 0., 0.]]],\n",
       "\n",
       "\n",
       "        [[[0., 0., 0., 0.]],\n",
       "\n",
       "         [[0., 0., 0., 0.]],\n",
       "\n",
       "         [[0., 0., 0., 0.]]]])"
      ]
     },
     "execution_count": 28,
     "metadata": {},
     "output_type": "execute_result"
    }
   ],
   "source": [
    "torch.zeros([5, 3, 1, 4])"
   ]
  },
  {
   "cell_type": "markdown",
   "id": "e6b77606",
   "metadata": {},
   "source": [
    "## 1.3. torch.arange()"
   ]
  },
  {
   "cell_type": "code",
   "execution_count": 25,
   "id": "2443b655",
   "metadata": {},
   "outputs": [
    {
     "data": {
      "text/plain": [
       "tensor([1, 2, 3, 4, 5, 6, 7, 8, 9])"
      ]
     },
     "execution_count": 25,
     "metadata": {},
     "output_type": "execute_result"
    }
   ],
   "source": [
    "torch.arange(1, 10)"
   ]
  },
  {
   "cell_type": "code",
   "execution_count": 26,
   "id": "a1f29a4f",
   "metadata": {},
   "outputs": [
    {
     "data": {
      "text/plain": [
       "tensor([22, 21, 20, 19, 18, 17, 16, 15, 14, 13, 12, 11])"
      ]
     },
     "execution_count": 26,
     "metadata": {},
     "output_type": "execute_result"
    }
   ],
   "source": [
    "torch.arange(22, 10, -1)"
   ]
  },
  {
   "cell_type": "code",
   "execution_count": 32,
   "id": "ffbbe326",
   "metadata": {},
   "outputs": [
    {
     "data": {
      "text/plain": [
       "tensor([10, 12, 14, 16, 18, 20])"
      ]
     },
     "execution_count": 32,
     "metadata": {},
     "output_type": "execute_result"
    }
   ],
   "source": [
    "torch.arange(10, 22, 2)"
   ]
  },
  {
   "cell_type": "markdown",
   "id": "67f426d0",
   "metadata": {},
   "source": [
    "## 1.4. torch.rand()"
   ]
  },
  {
   "cell_type": "code",
   "execution_count": 29,
   "id": "2112ecda",
   "metadata": {},
   "outputs": [
    {
     "data": {
      "text/plain": [
       "tensor([0.1522, 0.1697, 0.2454, 0.1852, 0.4975])"
      ]
     },
     "execution_count": 29,
     "metadata": {},
     "output_type": "execute_result"
    }
   ],
   "source": [
    "torch.rand(5)"
   ]
  },
  {
   "cell_type": "code",
   "execution_count": 30,
   "id": "33a420ed",
   "metadata": {},
   "outputs": [
    {
     "data": {
      "text/plain": [
       "tensor([[0.0317, 0.5140, 0.2283, 0.5707, 0.4012],\n",
       "        [0.6782, 0.3302, 0.7862, 0.8646, 0.0300],\n",
       "        [0.3528, 0.9690, 0.1262, 0.8522, 0.0647],\n",
       "        [0.8909, 0.0543, 0.2557, 0.8402, 0.7074],\n",
       "        [0.7058, 0.0457, 0.3413, 0.3127, 0.7692]])"
      ]
     },
     "execution_count": 30,
     "metadata": {},
     "output_type": "execute_result"
    }
   ],
   "source": [
    "torch.rand([5, 5])"
   ]
  },
  {
   "cell_type": "markdown",
   "id": "6c9e7ebc",
   "metadata": {},
   "source": [
    "## 1.5. torch.xxx_like()"
   ]
  },
  {
   "cell_type": "code",
   "execution_count": 34,
   "id": "dd748f20",
   "metadata": {},
   "outputs": [
    {
     "data": {
      "text/plain": [
       "tensor([1., 1., 1., 1., 1.])"
      ]
     },
     "execution_count": 34,
     "metadata": {},
     "output_type": "execute_result"
    }
   ],
   "source": [
    "a = torch.zeros(5)\n",
    "torch.ones_like(a)"
   ]
  },
  {
   "cell_type": "code",
   "execution_count": 35,
   "id": "965e6d64",
   "metadata": {},
   "outputs": [
    {
     "data": {
      "text/plain": [
       "tensor([0., 0., 0., 0., 0.])"
      ]
     },
     "execution_count": 35,
     "metadata": {},
     "output_type": "execute_result"
    }
   ],
   "source": [
    "torch.zeros_like(a)"
   ]
  },
  {
   "cell_type": "code",
   "execution_count": 36,
   "id": "a52620d7",
   "metadata": {},
   "outputs": [
    {
     "data": {
      "text/plain": [
       "tensor([0.3496, 0.8052, 0.5345, 0.8157, 0.8720])"
      ]
     },
     "execution_count": 36,
     "metadata": {},
     "output_type": "execute_result"
    }
   ],
   "source": [
    "torch.rand_like(a)"
   ]
  },
  {
   "cell_type": "markdown",
   "id": "004792eb",
   "metadata": {},
   "source": [
    "# 2. Attribute: shape, dtype, device"
   ]
  },
  {
   "cell_type": "markdown",
   "id": "519accb3",
   "metadata": {},
   "source": [
    "## 2.1. Tensor.shape"
   ]
  },
  {
   "cell_type": "code",
   "execution_count": 41,
   "id": "ef8fbdab",
   "metadata": {},
   "outputs": [
    {
     "data": {
      "text/plain": [
       "torch.Size([5])"
      ]
     },
     "execution_count": 41,
     "metadata": {},
     "output_type": "execute_result"
    }
   ],
   "source": [
    "a = torch.tensor([1, 2, 3, 4, 5])\n",
    "a.shape"
   ]
  },
  {
   "cell_type": "code",
   "execution_count": 42,
   "id": "7f4787f4",
   "metadata": {},
   "outputs": [
    {
     "data": {
      "text/plain": [
       "torch.Size([])"
      ]
     },
     "execution_count": 42,
     "metadata": {},
     "output_type": "execute_result"
    }
   ],
   "source": [
    "b = torch.tensor(5)\n",
    "b.shape"
   ]
  },
  {
   "cell_type": "markdown",
   "id": "a11ff222",
   "metadata": {},
   "source": [
    "## 2.2. Tensor.dtype"
   ]
  },
  {
   "cell_type": "code",
   "execution_count": 38,
   "id": "40c8ad78",
   "metadata": {},
   "outputs": [
    {
     "data": {
      "text/plain": [
       "torch.int64"
      ]
     },
     "execution_count": 38,
     "metadata": {},
     "output_type": "execute_result"
    }
   ],
   "source": [
    "a.dtype"
   ]
  },
  {
   "cell_type": "code",
   "execution_count": 47,
   "id": "59764b4a",
   "metadata": {},
   "outputs": [
    {
     "data": {
      "text/plain": [
       "torch.float64"
      ]
     },
     "execution_count": 47,
     "metadata": {},
     "output_type": "execute_result"
    }
   ],
   "source": [
    "# pytorch data type\n",
    "float_tensor = torch.ones([3, 5, 5], dtype = torch.float64)\n",
    "double_tensor = torch.ones(1, dtype = torch.double)\n",
    "complex_float_tensor = torch.ones(1, dtype = torch.complex64)\n",
    "complex_double_tensor = torch.ones(1, dtype = torch.complex128)\n",
    "int_tensor = torch.ones(1, dtype = torch.int)\n",
    "long_tensor = torch.ones(1, dtype = torch.long)\n",
    "uint_tensor = torch.ones(1, dtype = torch.uint8)\n",
    "bool_tensor = torch.ones(1, dtype = torch.bool)\n",
    "\n",
    "float_tensor.dtype"
   ]
  },
  {
   "cell_type": "code",
   "execution_count": 48,
   "id": "e2b8b4b5",
   "metadata": {},
   "outputs": [
    {
     "data": {
      "text/plain": [
       "tensor([[[1., 1., 1., 1., 1.],\n",
       "         [1., 1., 1., 1., 1.],\n",
       "         [1., 1., 1., 1., 1.],\n",
       "         [1., 1., 1., 1., 1.],\n",
       "         [1., 1., 1., 1., 1.]],\n",
       "\n",
       "        [[1., 1., 1., 1., 1.],\n",
       "         [1., 1., 1., 1., 1.],\n",
       "         [1., 1., 1., 1., 1.],\n",
       "         [1., 1., 1., 1., 1.],\n",
       "         [1., 1., 1., 1., 1.]],\n",
       "\n",
       "        [[1., 1., 1., 1., 1.],\n",
       "         [1., 1., 1., 1., 1.],\n",
       "         [1., 1., 1., 1., 1.],\n",
       "         [1., 1., 1., 1., 1.],\n",
       "         [1., 1., 1., 1., 1.]]], dtype=torch.float64)"
      ]
     },
     "execution_count": 48,
     "metadata": {},
     "output_type": "execute_result"
    }
   ],
   "source": [
    "float_tensor"
   ]
  },
  {
   "cell_type": "markdown",
   "id": "8f0eff1e",
   "metadata": {},
   "source": [
    "## 2.3. Tensor.device"
   ]
  },
  {
   "cell_type": "code",
   "execution_count": 46,
   "id": "ee259440",
   "metadata": {},
   "outputs": [
    {
     "data": {
      "text/plain": [
       "tensor([1, 2, 3, 4, 5])"
      ]
     },
     "execution_count": 46,
     "metadata": {},
     "output_type": "execute_result"
    }
   ],
   "source": [
    "a = torch.arange(1, 6)\n",
    "a"
   ]
  },
  {
   "cell_type": "code",
   "execution_count": 49,
   "id": "f67d1b9b",
   "metadata": {},
   "outputs": [
    {
     "data": {
      "text/plain": [
       "device(type='cpu')"
      ]
     },
     "execution_count": 49,
     "metadata": {},
     "output_type": "execute_result"
    }
   ],
   "source": [
    "a.device"
   ]
  },
  {
   "cell_type": "code",
   "execution_count": 51,
   "id": "a5eef571",
   "metadata": {},
   "outputs": [
    {
     "data": {
      "text/plain": [
       "False"
      ]
     },
     "execution_count": 51,
     "metadata": {},
     "output_type": "execute_result"
    }
   ],
   "source": [
    "torch.cuda.is_available() # GPU가 NVIDA일 때\n",
    "# a = torch.arange(1, 6).to('cuda')\n",
    "# a = torch.arange(1, 6).cuda()"
   ]
  },
  {
   "cell_type": "code",
   "execution_count": 53,
   "id": "8afee53f",
   "metadata": {},
   "outputs": [
    {
     "name": "stdout",
     "output_type": "stream",
     "text": [
      "MPS 장치를 지원하도록 build가 되었는가? True\n",
      "MPS 장치가 사용 가능한가? True\n"
     ]
    }
   ],
   "source": [
    "# 맥북\n",
    "print(f\"MPS 장치를 지원하도록 build가 되었는가? {torch.backends.mps.is_built()}\")\n",
    "print(f\"MPS 장치가 사용 가능한가? {torch.backends.mps.is_available()}\") "
   ]
  },
  {
   "cell_type": "code",
   "execution_count": 54,
   "id": "4b1ca77e",
   "metadata": {},
   "outputs": [],
   "source": [
    "device = torch.device('mps:0' if torch.backends.mps.is_available() else 'cpu')"
   ]
  },
  {
   "cell_type": "code",
   "execution_count": 66,
   "id": "72e0f97b",
   "metadata": {},
   "outputs": [],
   "source": [
    "a = torch.arange(1, 6).to('mps')"
   ]
  },
  {
   "cell_type": "code",
   "execution_count": 67,
   "id": "94f4edf7",
   "metadata": {},
   "outputs": [
    {
     "data": {
      "text/plain": [
       "device(type='mps', index=0)"
      ]
     },
     "execution_count": 67,
     "metadata": {},
     "output_type": "execute_result"
    }
   ],
   "source": [
    "a.device"
   ]
  },
  {
   "cell_type": "markdown",
   "id": "68dc68fd",
   "metadata": {},
   "source": [
    "# 3. Tensor Aggregation: element wise 연산, min, max, mean"
   ]
  },
  {
   "cell_type": "markdown",
   "id": "2b8c2a5e",
   "metadata": {},
   "source": [
    "## 3.1. element wise 연산: tensor의 같은 자리 원소들끼리 산술 연산"
   ]
  },
  {
   "cell_type": "code",
   "execution_count": 69,
   "id": "57bb97f5",
   "metadata": {},
   "outputs": [
    {
     "name": "stdout",
     "output_type": "stream",
     "text": [
      "tensor([[ 6,  8],\n",
      "        [10, 12]])\n",
      "tensor([[-4, -4],\n",
      "        [-4, -4]])\n",
      "tensor([[ 5, 12],\n",
      "        [21, 32]])\n",
      "tensor([[0.2000, 0.3333],\n",
      "        [0.4286, 0.5000]])\n"
     ]
    }
   ],
   "source": [
    "a = torch.tensor([[1, 2], [3, 4]])\n",
    "b = torch.tensor([[5, 6], [7, 8]])\n",
    "\n",
    "print(a + b)\n",
    "print(a - b)\n",
    "print(a * b)\n",
    "print(a / b)"
   ]
  },
  {
   "cell_type": "code",
   "execution_count": 70,
   "id": "e06e61ef",
   "metadata": {},
   "outputs": [
    {
     "name": "stdout",
     "output_type": "stream",
     "text": [
      "tensor([[ 6,  8],\n",
      "        [10, 12]])\n",
      "tensor([[-4, -4],\n",
      "        [-4, -4]])\n",
      "tensor([[ 5, 12],\n",
      "        [21, 32]])\n",
      "tensor([[0.2000, 0.3333],\n",
      "        [0.4286, 0.5000]])\n"
     ]
    }
   ],
   "source": [
    "print(a.add(b))\n",
    "print(a.sub(b))\n",
    "print(a.mul(b))\n",
    "print(a.div(b))"
   ]
  },
  {
   "cell_type": "markdown",
   "id": "3fe0b5ad",
   "metadata": {},
   "source": [
    "## 3.2. inplace 연산\n",
    "- 함수 뒤에 _를 붙이면 자기 자신의 값을 바꾸게 됨\n",
    "- 연산 결과를 반환하면서 동시에 자기 자신의 데이터를 고침"
   ]
  },
  {
   "cell_type": "code",
   "execution_count": 71,
   "id": "b17b07a6",
   "metadata": {},
   "outputs": [
    {
     "name": "stdout",
     "output_type": "stream",
     "text": [
      "tensor([[ 6,  8],\n",
      "        [10, 12]])\n",
      "tensor([[1, 2],\n",
      "        [3, 4]])\n",
      "tensor([[ 6,  8],\n",
      "        [10, 12]])\n",
      "tensor([[ 6,  8],\n",
      "        [10, 12]])\n"
     ]
    }
   ],
   "source": [
    "print(a.add(b))\n",
    "print(a)\n",
    "print(a.add_(b))\n",
    "print(a)"
   ]
  },
  {
   "cell_type": "markdown",
   "id": "533a33de",
   "metadata": {},
   "source": [
    "## 3.3. Tensor.min()\n",
    "- 가장 작은 값을 반환해줌\n",
    "- argument로 차원을 넣어주면 해당 차원에서 각각 가장 작은 값들과, 그 값들의 위치를 함께 반환"
   ]
  },
  {
   "cell_type": "code",
   "execution_count": 72,
   "id": "05f131cb",
   "metadata": {},
   "outputs": [
    {
     "name": "stdout",
     "output_type": "stream",
     "text": [
      "torch.Size([2, 3])\n",
      "tensor(1)\n",
      "torch.return_types.min(\n",
      "values=tensor([2, 1, 4]),\n",
      "indices=tensor([1, 0, 0]))\n",
      "torch.return_types.min(\n",
      "values=tensor([1, 2]),\n",
      "indices=tensor([1, 0]))\n"
     ]
    }
   ],
   "source": [
    "a = torch.tensor([[3, 1, 4], [2, 4, 5]])\n",
    "print(a.shape)\n",
    "print(a.min())\n",
    "print(a.min(dim = 0))\n",
    "print(a.min(dim = 1))"
   ]
  },
  {
   "cell_type": "markdown",
   "id": "42bf589a",
   "metadata": {},
   "source": [
    "## 3.4. Tensor.max()\n",
    "- 가장 큰 값을 반환해줌\n",
    "- argument로 차원을 넣어주면 해당 차원에서 각각 가장 작은 값들과, 그 값들의 위치를 함께 반환"
   ]
  },
  {
   "cell_type": "code",
   "execution_count": 73,
   "id": "0a22091f",
   "metadata": {},
   "outputs": [
    {
     "name": "stdout",
     "output_type": "stream",
     "text": [
      "torch.Size([2, 3])\n",
      "tensor(5)\n",
      "torch.return_types.max(\n",
      "values=tensor([3, 4, 5]),\n",
      "indices=tensor([0, 1, 1]))\n",
      "torch.return_types.max(\n",
      "values=tensor([4, 5]),\n",
      "indices=tensor([2, 2]))\n"
     ]
    }
   ],
   "source": [
    "a = torch.tensor([[3, 1, 4], [2, 4, 5]])\n",
    "print(a.shape)\n",
    "print(a.max())\n",
    "print(a.max(dim = 0))\n",
    "print(a.max(dim = 1))"
   ]
  },
  {
   "cell_type": "markdown",
   "id": "a537031f",
   "metadata": {},
   "source": [
    "## 3.5. Tensor.mean()"
   ]
  },
  {
   "cell_type": "code",
   "execution_count": 76,
   "id": "e2b37fb6",
   "metadata": {},
   "outputs": [
    {
     "name": "stdout",
     "output_type": "stream",
     "text": [
      "torch.Size([2, 3])\n",
      "tensor(3.1667)\n",
      "tensor([2.5000, 2.5000, 4.5000])\n",
      "tensor([2.6667, 3.6667])\n"
     ]
    }
   ],
   "source": [
    "a = torch.FloatTensor([[3, 1, 4], [2, 4, 5]])\n",
    "print(a.shape)\n",
    "print(a.mean())\n",
    "print(a.mean(dim = 0))\n",
    "print(a.mean(dim = 1))"
   ]
  },
  {
   "cell_type": "markdown",
   "id": "d2352030",
   "metadata": {},
   "source": [
    "# 4. Indexing\n",
    "- 원하는 원소나 영역을 index를 이용하여 선택\n",
    "- 기존의 numpy, pandas의 indexing과 유사"
   ]
  },
  {
   "cell_type": "code",
   "execution_count": null,
   "id": "6a5f5436",
   "metadata": {},
   "outputs": [],
   "source": []
  }
 ],
 "metadata": {
  "kernelspec": {
   "display_name": "PyTorch",
   "language": "python",
   "name": "pytorch_env"
  },
  "language_info": {
   "codemirror_mode": {
    "name": "ipython",
    "version": 3
   },
   "file_extension": ".py",
   "mimetype": "text/x-python",
   "name": "python",
   "nbconvert_exporter": "python",
   "pygments_lexer": "ipython3",
   "version": "3.10.11"
  }
 },
 "nbformat": 4,
 "nbformat_minor": 5
}
