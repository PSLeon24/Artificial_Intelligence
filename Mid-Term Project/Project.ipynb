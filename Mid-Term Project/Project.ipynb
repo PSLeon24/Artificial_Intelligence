{
 "cells": [
  {
   "cell_type": "markdown",
   "id": "249e438f",
   "metadata": {},
   "source": [
    "# The Project"
   ]
  },
  {
   "cell_type": "markdown",
   "id": "137748d8",
   "metadata": {},
   "source": [
    "## 1. Choose publicly available data"
   ]
  },
  {
   "cell_type": "code",
   "execution_count": null,
   "id": "8f2a3ffe",
   "metadata": {},
   "outputs": [],
   "source": []
  },
  {
   "cell_type": "markdown",
   "id": "77782908",
   "metadata": {},
   "source": [
    "## 2. Explain the details of the data I selected"
   ]
  },
  {
   "cell_type": "code",
   "execution_count": null,
   "id": "be3a5f6f",
   "metadata": {},
   "outputs": [],
   "source": []
  },
  {
   "cell_type": "markdown",
   "id": "fd0822f0",
   "metadata": {},
   "source": [
    "## 3. Data Preprocessing\n",
    "- Perform data cleaning\n",
    "- data transformation\n",
    "- data normalization"
   ]
  },
  {
   "cell_type": "code",
   "execution_count": null,
   "id": "a1854301",
   "metadata": {},
   "outputs": [],
   "source": []
  },
  {
   "cell_type": "markdown",
   "id": "757c7888",
   "metadata": {},
   "source": [
    "## 4. Data Visualization\n",
    "- Create basic and statistical charts"
   ]
  },
  {
   "cell_type": "code",
   "execution_count": null,
   "id": "4db6763b",
   "metadata": {},
   "outputs": [],
   "source": []
  },
  {
   "cell_type": "markdown",
   "id": "79daee03",
   "metadata": {},
   "source": [
    "## 5. Data Manipulation\n",
    "- Use data frame manipulation for Tasks 3 and 4."
   ]
  },
  {
   "cell_type": "code",
   "execution_count": null,
   "id": "22967d7d",
   "metadata": {},
   "outputs": [],
   "source": []
  }
 ],
 "metadata": {
  "kernelspec": {
   "display_name": "MP_vision",
   "language": "python",
   "name": "mp_vision"
  },
  "language_info": {
   "codemirror_mode": {
    "name": "ipython",
    "version": 3
   },
   "file_extension": ".py",
   "mimetype": "text/x-python",
   "name": "python",
   "nbconvert_exporter": "python",
   "pygments_lexer": "ipython3",
   "version": "3.10.6"
  }
 },
 "nbformat": 4,
 "nbformat_minor": 5
}
