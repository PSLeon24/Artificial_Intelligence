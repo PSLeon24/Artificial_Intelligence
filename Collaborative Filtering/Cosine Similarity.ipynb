{
 "cells": [
  {
   "cell_type": "code",
   "execution_count": 2,
   "id": "e91534aa",
   "metadata": {},
   "outputs": [
    {
     "name": "stdout",
     "output_type": "stream",
     "text": [
      "Similarity Matrix:\n",
      " [[0.         0.82686887 0.81016272 0.76277007 0.78954203]\n",
      " [0.82686887 0.         0.95938348 0.9356927  0.63781505]\n",
      " [0.81016272 0.95938348 0.         0.89442719 0.77151675]\n",
      " [0.76277007 0.9356927  0.89442719 0.         0.63831064]\n",
      " [0.78954203 0.63781505 0.77151675 0.63831064 0.        ]]\n"
     ]
    }
   ],
   "source": [
    "import numpy as np\n",
    "from numpy.linalg import norm\n",
    "\n",
    "# Updated user ratings\n",
    "alice = np.array([5, 3, 4, 4, 0])  # Alice has not rated the fifth item\n",
    "user1 = np.array([3, 1, 2, 3, 3])\n",
    "user2 = np.array([4, 3, 4, 3, 5])\n",
    "user3 = np.array([3, 3, 1, 5, 4])\n",
    "user4 = np.array([1, 5, 5, 2, 1])\n",
    "\n",
    "# Compile all ratings into a matrix\n",
    "ratings = np.array([alice, user1, user2, user3, user4])\n",
    "\n",
    "def cosine_similarity(u1, u2):\n",
    "    \"\"\"Computes cosine similarity between two vectors.\"\"\"\n",
    "    return np.dot(u1, u2) / (norm(u1) * norm(u2))\n",
    "\n",
    "# Compute the similarity matrix\n",
    "num_users = ratings.shape[0]\n",
    "similarity_matrix = np.zeros((num_users, num_users))\n",
    "\n",
    "for i in range(num_users):\n",
    "    for j in range(num_users):\n",
    "        if i != j:\n",
    "            similarity_matrix[i, j] = cosine_similarity(ratings[i], ratings[j])\n",
    "        else:\n",
    "            similarity_matrix[i, j] = 0  # exclude self-similarity\n",
    "\n",
    "print(\"Similarity Matrix:\\n\", similarity_matrix)"
   ]
  },
  {
   "cell_type": "code",
   "execution_count": null,
   "id": "00f9ddab",
   "metadata": {},
   "outputs": [],
   "source": []
  }
 ],
 "metadata": {
  "kernelspec": {
   "display_name": "MP_vision",
   "language": "python",
   "name": "mp_vision"
  },
  "language_info": {
   "codemirror_mode": {
    "name": "ipython",
    "version": 3
   },
   "file_extension": ".py",
   "mimetype": "text/x-python",
   "name": "python",
   "nbconvert_exporter": "python",
   "pygments_lexer": "ipython3",
   "version": "3.10.6"
  }
 },
 "nbformat": 4,
 "nbformat_minor": 5
}
